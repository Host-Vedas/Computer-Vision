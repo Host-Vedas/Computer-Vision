{
 "cells": [
  {
   "cell_type": "code",
   "execution_count": 1,
   "id": "d55fd7fb",
   "metadata": {},
   "outputs": [],
   "source": [
    "import cv2"
   ]
  },
  {
   "cell_type": "code",
   "execution_count": 4,
   "id": "cd8b2ddc",
   "metadata": {},
   "outputs": [],
   "source": [
    "path = r\"C:\\Users\\ankit\\OneDrive\\Pictures\\SC rep\"\n",
    "img_name = \"Screenshot (47).png\"\n",
    "\n",
    "img = cv2.imread(path + '\\\\'+img_name)\n",
    "cv2.imshow('Mero Photo Ko Window ko name ',img)\n",
    "cv2.waitKey(0)\n",
    "cv2.destroyAllWindows()"
   ]
  },
  {
   "cell_type": "code",
   "execution_count": 6,
   "id": "6df9dcbc",
   "metadata": {},
   "outputs": [],
   "source": [
    "img = cv2.imread(path + '\\\\'+img_name)\n",
    "img = cv2.resize(img,(600,400))\n",
    "cv2.imshow('Mero Photo Ko Window ko name ',img)\n",
    "cv2.waitKey(0)\n",
    "cv2.destroyAllWindows()"
   ]
  },
  {
   "cell_type": "code",
   "execution_count": 16,
   "id": "9727feee",
   "metadata": {},
   "outputs": [
    {
     "data": {
      "text/plain": [
       "['Screenshot (185).png',\n",
       " 'Screenshot (256).png',\n",
       " 'Screenshot (258).png',\n",
       " 'Screenshot (259).png',\n",
       " 'Screenshot (260).png',\n",
       " 'Screenshot (261).png',\n",
       " 'Screenshot (262).png',\n",
       " 'Screenshot (263).png',\n",
       " 'Screenshot (264).png',\n",
       " 'Screenshot (265).png',\n",
       " 'Screenshot (266).png',\n",
       " 'Screenshot (267).png',\n",
       " 'Screenshot (268).png',\n",
       " 'Screenshot (269).png',\n",
       " 'Screenshot (270).png',\n",
       " 'Screenshot (271).png',\n",
       " 'Screenshot (46).png',\n",
       " 'Screenshot (47).png',\n",
       " 'Screenshot (94).png',\n",
       " 'Screenshot (95).png',\n",
       " 'Screenshot 2023-06-12 132514.png',\n",
       " 'Screenshot 2023-06-12 132725.png',\n",
       " 'Screenshot 2023-06-12 181841.png',\n",
       " 'Screenshot 2023-06-21 171923.png',\n",
       " 'Screenshot_20221215_100247.png']"
      ]
     },
     "execution_count": 16,
     "metadata": {},
     "output_type": "execute_result"
    }
   ],
   "source": [
    "import os\n",
    "img_names = os.listdir('SC rep')\n",
    "img_names"
   ]
  },
  {
   "cell_type": "code",
   "execution_count": 17,
   "id": "b88c5793",
   "metadata": {},
   "outputs": [],
   "source": [
    "import cv2\n",
    "import os\n",
    "\n",
    "path = r\"H:\\Computer Vision\\SC rep\"\n",
    "for img_name in img_names:\n",
    "    img_full_path = os.path.join(path, img_name)\n",
    "\n",
    "    # Check if the file exists\n",
    "    if not os.path.isfile(img_full_path):\n",
    "        print(f\"Error: File not found - {img_full_path}\")\n",
    "        continue\n",
    "\n",
    "    # Load the image\n",
    "    img = cv2.imread(img_full_path)\n",
    "\n",
    "    # Check if the image is loaded successfully\n",
    "    if img is None:\n",
    "        print(f\"Error: Unable to read image - {img_full_path}\")\n",
    "        continue\n",
    "\n",
    "    # Resize the image\n",
    "    img = cv2.resize(img, (1280, 720))\n",
    "\n",
    "    # Display the image\n",
    "    cv2.imshow('Image Window', img)\n",
    "    cv2.waitKey(0)\n",
    "\n",
    "cv2.destroyAllWindows()\n"
   ]
  },
  {
   "cell_type": "code",
   "execution_count": null,
   "id": "9b4e3519",
   "metadata": {},
   "outputs": [],
   "source": []
  }
 ],
 "metadata": {
  "kernelspec": {
   "display_name": "Python 3 (ipykernel)",
   "language": "python",
   "name": "python3"
  },
  "language_info": {
   "codemirror_mode": {
    "name": "ipython",
    "version": 3
   },
   "file_extension": ".py",
   "mimetype": "text/x-python",
   "name": "python",
   "nbconvert_exporter": "python",
   "pygments_lexer": "ipython3",
   "version": "3.11.3"
  }
 },
 "nbformat": 4,
 "nbformat_minor": 5
}
